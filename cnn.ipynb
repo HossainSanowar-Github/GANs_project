{
 "cells": [
  {
   "cell_type": "code",
   "execution_count": 1,
   "id": "94a410bd",
   "metadata": {},
   "outputs": [
    {
     "name": "stdout",
     "output_type": "stream",
     "text": [
      "Init Plugin\n",
      "Init Graph Optimizer\n",
      "Init Kernel\n"
     ]
    }
   ],
   "source": [
    "%matplotlib inline\n",
    "from matplotlib import pyplot as plt\n",
    "import numpy as np\n",
    "import tensorflow as tf\n",
    "from tensorflow import keras\n",
    "from tensorflow.keras import Sequential, layers\n",
    "from tensorflow.keras.layers import Conv2D, MaxPooling2D, Flatten, Dense\n",
    "from tensorflow.keras.utils import to_categorical"
   ]
  },
  {
   "cell_type": "code",
   "execution_count": 2,
   "id": "169f5ead",
   "metadata": {},
   "outputs": [
    {
     "name": "stdout",
     "output_type": "stream",
     "text": [
      "(60000, 28, 28) (60000,) (10000, 28, 28) (10000,) \n",
      "\n",
      "(10000, 28, 28) (10000,) (10000, 28, 28) (10000,)\n"
     ]
    }
   ],
   "source": [
    "(train_img, train_lb), (test_img, test_lb) = tf.keras.datasets.mnist.load_data()\n",
    "\n",
    "print(train_img.shape, train_lb.shape, test_img.shape, test_lb.shape, '\\n')\n",
    "\n",
    "# set random seed\n",
    "np.random.seed(42)\n",
    "trainsize = 10000  # number of training images we use, selected randomly\n",
    "randtrain = np.random.choice(train_img.shape[0], trainsize, replace=False)\n",
    "X_train, y_train = train_img[randtrain], train_lb[randtrain]\n",
    "\n",
    "np.random.seed(10)\n",
    "testsize = 10000  # number of testing images we use, selected randomly\n",
    "randtest = np.random.choice(test_img.shape[0], testsize, replace=False)\n",
    "X_test, y_test = test_img[randtest], test_lb[randtest]\n",
    "\n",
    "print(X_train.shape, y_train.shape, X_test.shape, y_test.shape)"
   ]
  },
  {
   "cell_type": "code",
   "execution_count": 3,
   "id": "f338e610",
   "metadata": {},
   "outputs": [
    {
     "data": {
      "image/png": "[encoded data removed]",
      "text/plain": [
       "<Figure size 432x288 with 1 Axes>"
      ]
     },
     "metadata": {
      "needs_background": "light"
     },
     "output_type": "display_data"
    }
   ],
   "source": [
    "# demonstrate an image\n",
    "plt.figure()\n",
    "plt.imshow(X_train[0])\n",
    "plt.imshow(X_train[0], cmap='gray')\n",
    "plt.show()"
   ]
  },
  {
   "cell_type": "code",
   "execution_count": 5,
   "id": "8ffee230",
   "metadata": {},
   "outputs": [
    {
     "name": "stdout",
     "output_type": "stream",
     "text": [
      "Model: \"sequential_1\"\n",
      "_________________________________________________________________\n",
      "Layer (type)                 Output Shape              Param #   \n",
      "=================================================================\n",
      "conv2d_2 (Conv2D)            (None, 26, 26, 32)        320       \n",
      "_________________________________________________________________\n",
      "max_pooling2d_2 (MaxPooling2 (None, 13, 13, 32)        0         \n",
      "_________________________________________________________________\n",
      "conv2d_3 (Conv2D)            (None, 11, 11, 64)        18496     \n",
      "_________________________________________________________________\n",
      "max_pooling2d_3 (MaxPooling2 (None, 5, 5, 64)          0         \n",
      "_________________________________________________________________\n",
      "flatten_1 (Flatten)          (None, 1600)              0         \n",
      "_________________________________________________________________\n",
      "dense_2 (Dense)              (None, 128)               204928    \n",
      "_________________________________________________________________\n",
      "dense_3 (Dense)              (None, 10)                1290      \n",
      "=================================================================\n",
      "Total params: 225,034\n",
      "Trainable params: 225,034\n",
      "Non-trainable params: 0\n",
      "_________________________________________________________________\n"
     ]
    }
   ],
   "source": [
    "# build the cnn model\n",
    "model = Sequential()\n",
    "model.add(layers.Conv2D(32, (3, 3), activation='relu', input_shape=(28, 28, 1)))\n",
    "model.add(layers.MaxPooling2D(2, 2))\n",
    "model.add(layers.Conv2D(64, (3, 3), activation='relu'))\n",
    "model.add(layers.MaxPooling2D(2, 2))\n",
    "model.add(layers.Flatten())\n",
    "model.add(layers.Dense(128))\n",
    "model.add(layers.Dense(10, activation='softmax'))\n",
    "model.summary()"
   ]
  },
  {
   "cell_type": "code",
   "execution_count": 6,
   "id": "c7687513",
   "metadata": {},
   "outputs": [
    {
     "name": "stderr",
     "output_type": "stream",
     "text": [
      "2022-03-20 17:13:26.498378: I tensorflow/compiler/mlir/mlir_graph_optimization_pass.cc:176] None of the MLIR Optimization Passes are enabled (registered 2)\n",
      "2022-03-20 17:13:26.498576: W tensorflow/core/platform/profile_utils/cpu_utils.cc:128] Failed to get CPU frequency: 0 Hz\n",
      "2022-03-20 17:13:26.586788: I tensorflow/core/grappler/optimizers/custom_graph_optimizer_registry.cc:112] Plugin optimizer for device_type GPU is enabled.\n"
     ]
    },
    {
     "name": "stdout",
     "output_type": "stream",
     "text": [
      "Epoch 1/15\n",
      " 99/100 [============================>.] - ETA: 0s - loss: 1.9954 - accuracy: 0.4694"
     ]
    },
    {
     "name": "stderr",
     "output_type": "stream",
     "text": [
      "2022-03-20 17:13:28.843604: I tensorflow/core/grappler/optimizers/custom_graph_optimizer_registry.cc:112] Plugin optimizer for device_type GPU is enabled.\n"
     ]
    },
    {
     "name": "stdout",
     "output_type": "stream",
     "text": [
      "100/100 [==============================] - 3s 14ms/step - loss: 1.9906 - accuracy: 0.4718 - val_loss: 1.4844 - val_accuracy: 0.7361\n",
      "Epoch 2/15\n",
      "100/100 [==============================] - 1s 14ms/step - loss: 0.9447 - accuracy: 0.8073 - val_loss: 0.5533 - val_accuracy: 0.8657\n",
      "Epoch 3/15\n",
      "100/100 [==============================] - 1s 15ms/step - loss: 0.4584 - accuracy: 0.8805 - val_loss: 0.3787 - val_accuracy: 0.8929\n",
      "Epoch 4/15\n",
      "100/100 [==============================] - 1s 14ms/step - loss: 0.3371 - accuracy: 0.9071 - val_loss: 0.2938 - val_accuracy: 0.9181\n",
      "Epoch 5/15\n",
      "100/100 [==============================] - 1s 14ms/step - loss: 0.2810 - accuracy: 0.9202 - val_loss: 0.2594 - val_accuracy: 0.9299\n",
      "Epoch 6/15\n",
      "100/100 [==============================] - 1s 14ms/step - loss: 0.2453 - accuracy: 0.9300 - val_loss: 0.2253 - val_accuracy: 0.9389\n",
      "Epoch 7/15\n",
      "100/100 [==============================] - 1s 13ms/step - loss: 0.2162 - accuracy: 0.9397 - val_loss: 0.2113 - val_accuracy: 0.9393\n",
      "Epoch 8/15\n",
      "100/100 [==============================] - 1s 15ms/step - loss: 0.1971 - accuracy: 0.9470 - val_loss: 0.1875 - val_accuracy: 0.9485\n",
      "Epoch 9/15\n",
      "100/100 [==============================] - 1s 14ms/step - loss: 0.1809 - accuracy: 0.9488 - val_loss: 0.1696 - val_accuracy: 0.9521\n",
      "Epoch 10/15\n",
      "100/100 [==============================] - 1s 14ms/step - loss: 0.1650 - accuracy: 0.9536 - val_loss: 0.1631 - val_accuracy: 0.9549\n",
      "Epoch 11/15\n",
      "100/100 [==============================] - 1s 13ms/step - loss: 0.1519 - accuracy: 0.9606 - val_loss: 0.1480 - val_accuracy: 0.9581\n",
      "Epoch 12/15\n",
      "100/100 [==============================] - 1s 13ms/step - loss: 0.1418 - accuracy: 0.9624 - val_loss: 0.1446 - val_accuracy: 0.9584\n",
      "Epoch 13/15\n",
      "100/100 [==============================] - 1s 13ms/step - loss: 0.1341 - accuracy: 0.9625 - val_loss: 0.1376 - val_accuracy: 0.9611\n",
      "Epoch 14/15\n",
      "100/100 [==============================] - 1s 13ms/step - loss: 0.1254 - accuracy: 0.9652 - val_loss: 0.1305 - val_accuracy: 0.9619\n",
      "Epoch 15/15\n",
      "100/100 [==============================] - 1s 14ms/step - loss: 0.1182 - accuracy: 0.9668 - val_loss: 0.1336 - val_accuracy: 0.9629\n"
     ]
    }
   ],
   "source": [
    "train_images = X_train.reshape((trainsize, 28, 28, 1))\n",
    "train_images = (train_images.astype('float32') - 127.5) / 127.5\n",
    "\n",
    "test_images = X_test.reshape((testsize, 28, 28, 1))\n",
    "test_images = (test_images.astype('float32') - 127.5) / 127.5\n",
    "\n",
    "train_labels = to_categorical(y_train)\n",
    "test_labels = to_categorical(y_test)\n",
    "\n",
    "model.compile(optimizer='sgd',\n",
    "              loss='categorical_crossentropy',\n",
    "              metrics=['accuracy'])\n",
    "\n",
    "history = model.fit(train_images, train_labels, batch_size=100, epochs=15,\n",
    "                    validation_data=(test_images, test_labels))\n",
    "\n",
    "# test_loss, test_acc = model.evaluate(test_images, test_labels)"
   ]
  },
  {
   "cell_type": "code",
   "execution_count": 7,
   "id": "9cc92347",
   "metadata": {},
   "outputs": [
    {
     "data": {
      "image/png": "[encoded data removed]",
      "text/plain": [
       "<Figure size 432x288 with 1 Axes>"
      ]
     },
     "metadata": {
      "needs_background": "light"
     },
     "output_type": "display_data"
    }
   ],
   "source": [
    "plt.figure()\n",
    "plt.plot(history.history['accuracy'], label='accuracy')\n",
    "plt.plot(history.history['val_accuracy'], label = 'val_accuracy')\n",
    "plt.xlabel('Epoch')\n",
    "plt.ylabel('Accuracy')\n",
    "plt.ylim([0.3, 1])\n",
    "plt.legend(loc='lower right')\n",
    "plt.show()\n",
    "# print('Test accuracy:', test_acc)"
   ]
  },
  {
   "cell_type": "markdown",
   "id": "62ac9c96",
   "metadata": {},
   "source": [
    "### We can see that both training accuracy and testing are approximately 0.96 after 15 epochs."
   ]
  },
  {
   "cell_type": "code",
   "execution_count": 8,
   "id": "95a87727",
   "metadata": {},
   "outputs": [
    {
     "name": "stderr",
     "output_type": "stream",
     "text": [
      "2022-03-20 17:14:32.049680: I tensorflow/core/grappler/optimizers/custom_graph_optimizer_registry.cc:112] Plugin optimizer for device_type GPU is enabled.\n"
     ]
    },
    {
     "name": "stdout",
     "output_type": "stream",
     "text": [
      "[[2.2484023e-04 2.4339491e-04 9.7154230e-01 2.7498653e-02 1.0296747e-08\n",
      "  9.1638339e-07 1.7028909e-05 1.3679782e-05 4.5812831e-04 1.0856123e-06]]\n",
      "prediction: 2\n"
     ]
    },
    {
     "data": {
      "image/png": "[encoded data removed]",
      "text/plain": [
       "<Figure size 432x288 with 1 Axes>"
      ]
     },
     "metadata": {
      "needs_background": "light"
     },
     "output_type": "display_data"
    }
   ],
   "source": [
    "# demonstration: predict the ith test digit\n",
    "i = 15\n",
    "prediction = model.predict(test_images[i].reshape(1,28,28,1))\n",
    "\n",
    "# get probability distribution and classification of the test digit\n",
    "print(prediction)\n",
    "print('prediction:', np.argmax(prediction))\n",
    "\n",
    "# draw the barplot\n",
    "plt.figure()\n",
    "plt.bar(np.arange(0,10).astype('str'), prediction[0,:])\n",
    "plt.show()"
   ]
  },
  {
   "cell_type": "code",
   "execution_count": 9,
   "id": "73d6d2e0",
   "metadata": {},
   "outputs": [
    {
     "name": "stdout",
     "output_type": "stream",
     "text": [
      "actual label: 2\n"
     ]
    },
    {
     "data": {
      "image/png": "[encoded data removed]",
      "text/plain": [
       "<Figure size 432x288 with 1 Axes>"
      ]
     },
     "metadata": {
      "needs_background": "light"
     },
     "output_type": "display_data"
    }
   ],
   "source": [
    "# show the actual ith digit\n",
    "print('actual label:', np.argmax(test_labels[i]))\n",
    "plt.figure()\n",
    "plt.imshow(test_images[i,:,:,0], cmap='gray')\n",
    "plt.show()"
   ]
  },
  {
   "cell_type": "code",
   "execution_count": 10,
   "id": "a05ac9f2",
   "metadata": {},
   "outputs": [],
   "source": [
    "pred_labels = model.predict(test_images).argmax(axis=1)\n",
    "true_labels = test_labels.argmax(axis=1)"
   ]
  },
  {
   "cell_type": "markdown",
   "id": "3f9aac25",
   "metadata": {},
   "source": [
    "Create confusion matrix and generate heatmap. This part is modified from https://androidkt.com/keras-confusion-matrix-in-tensorboard/"
   ]
  },
  {
   "cell_type": "code",
   "execution_count": 11,
   "id": "3a0109b9",
   "metadata": {},
   "outputs": [
    {
     "data": {
      "text/plain": [
       "array([[ 973,    0,    2,    0,    0,    1,    2,    1,    1,    0],\n",
       "       [   0, 1123,    3,    2,    0,    0,    4,    1,    2,    0],\n",
       "       [  14,    0,  964,   11,    8,    0,    3,   16,   14,    2],\n",
       "       [   3,    0,    4,  985,    0,    3,    1,    8,    4,    2],\n",
       "       [   3,    1,    1,    0,  954,    0,    8,    4,    2,    9],\n",
       "       [  10,    1,    0,   17,    0,  843,   12,    1,    6,    2],\n",
       "       [  13,    3,    1,    1,    2,    3,  933,    0,    2,    0],\n",
       "       [   4,    3,   20,    8,    5,    1,    0,  978,    4,    5],\n",
       "       [  13,    0,    2,   12,    2,    1,    1,    8,  925,   10],\n",
       "       [  13,    6,    0,   10,    7,    4,    0,   10,    8,  951]],\n",
       "      dtype=int32)"
      ]
     },
     "execution_count": 11,
     "metadata": {},
     "output_type": "execute_result"
    }
   ],
   "source": [
    "confusion_mat = tf.math.confusion_matrix(labels=true_labels, predictions=pred_labels).numpy()\n",
    "confusion_mat"
   ]
  },
  {
   "cell_type": "code",
   "execution_count": 12,
   "id": "875707c4",
   "metadata": {},
   "outputs": [
    {
     "data": {
      "image/png": "[encoded data removed]",
      "text/plain": [
       "<Figure size 432x288 with 2 Axes>"
      ]
     },
     "metadata": {
      "needs_background": "light"
     },
     "output_type": "display_data"
    }
   ],
   "source": [
    "import pandas as pd\n",
    "import seaborn as sns\n",
    "\n",
    "# normalize\n",
    "confusion_mat_norm = np.around(confusion_mat.astype('float') / np.atleast_2d(confusion_mat.sum(axis=1)).T, decimals=2)\n",
    "\n",
    "classes = np.arange(0,10).astype('str')\n",
    "confusion_mat_df = pd.DataFrame(confusion_mat_norm,\n",
    "                                index = classes, \n",
    "                                columns = classes)\n",
    "\n",
    "# generate heatmap\n",
    "figure = plt.figure()\n",
    "sns.heatmap(confusion_mat_df, annot=True, cmap=plt.cm.Blues)\n",
    "plt.tight_layout()\n",
    "plt.ylabel('True label')\n",
    "plt.xlabel('Predicted label')\n",
    "plt.show()"
   ]
  },
  {
   "cell_type": "code",
   "execution_count": null,
   "id": "b280c0bb",
   "metadata": {},
   "outputs": [],
   "source": []
  }
 ],
 "metadata": {
  "kernelspec": {
   "display_name": "Python 3.9 (tensorflow)",
   "language": "python",
   "name": "tensorflow"
  },
  "language_info": {
   "codemirror_mode": {
    "name": "ipython",
    "version": 3
   },
   "file_extension": ".py",
   "mimetype": "text/x-python",
   "name": "python",
   "nbconvert_exporter": "python",
   "pygments_lexer": "ipython3",
   "version": "3.9.7"
  }
 },
 "nbformat": 4,
 "nbformat_minor": 5
}
